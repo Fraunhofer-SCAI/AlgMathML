{
 "cells": [
  {
   "cell_type": "markdown",
   "metadata": {},
   "source": [
    "**A general introduction to Jupyter Notebooks**\n",
    "\n",
    "Some useful shortcuts (the full list can be seen by navigating to Help > Keyboard Shortcuts):\n",
    "\n",
    "* <kbd>Enter</kbd> enters the edit mode for the selected cell.\n",
    "* <kbd>Shift</kbd> + <kbd>Enter</kbd> evaluates the current cell.\n",
    "* <kbd>Esc</kbd> allows you to navigate between cells using the arrow keys, or <kbd>K</kbd> (up) and <kbd>J</kbd> (down).\n",
    "* When navigating between cells,\n",
    "    * <kbd>A</kbd> inserts a cell above, <kbd>B</kbd> inserts one below.\n",
    "    * <kbd>D</kbd> + <kbd>D</kbd> deletes the cell.\n",
    "    * <kbd>C</kbd> copies the current cell, <kbd>V</kbd> pastes the copied cell below the currently selected cell.\n",
    "    * <kbd>X</kbd> copies the cell and deletes it afterwards.\n",
    "    * <kbd>Y</kbd> sets the cell type to code, <kbd>M</kbd> switches it to Markdown.\n",
    "* <kbd>Ctrl</kbd> + <kbd>S</kbd> saves the Notebook and creates a checkpoint. Going to File > Revert to Checkpoint you can go back in time to the contents at previous checkpoints."
   ]
  },
  {
   "cell_type": "markdown",
   "metadata": {},
   "source": [
    "![Python logo](https://www.python.org/static/community_logos/python-logo-master-v3-TM-flattened.png)\n",
    "\n",
    "Python is a general-purpose programming language. It has many properties and qualities, you can find some in *The Zen of Python*:"
   ]
  },
  {
   "cell_type": "code",
   "execution_count": 1,
   "metadata": {},
   "outputs": [
    {
     "name": "stdout",
     "output_type": "stream",
     "text": [
      "The Zen of Python, by Tim Peters\n",
      "\n",
      "Beautiful is better than ugly.\n",
      "Explicit is better than implicit.\n",
      "Simple is better than complex.\n",
      "Complex is better than complicated.\n",
      "Flat is better than nested.\n",
      "Sparse is better than dense.\n",
      "Readability counts.\n",
      "Special cases aren't special enough to break the rules.\n",
      "Although practicality beats purity.\n",
      "Errors should never pass silently.\n",
      "Unless explicitly silenced.\n",
      "In the face of ambiguity, refuse the temptation to guess.\n",
      "There should be one-- and preferably only one --obvious way to do it.\n",
      "Although that way may not be obvious at first unless you're Dutch.\n",
      "Now is better than never.\n",
      "Although never is often better than *right* now.\n",
      "If the implementation is hard to explain, it's a bad idea.\n",
      "If the implementation is easy to explain, it may be a good idea.\n",
      "Namespaces are one honking great idea -- let's do more of those!\n"
     ]
    }
   ],
   "source": [
    "import this"
   ]
  },
  {
   "cell_type": "markdown",
   "metadata": {},
   "source": [
    "# 1. Types\n",
    "\n",
    "Python has several built-in data types, we will go over the ones we will use more often.\n",
    "\n",
    "## 1.1. Boolean types\n",
    "\n",
    "As expected, the possible Boolean types are `True` and `False`. The classical laws of Boolean algebra hold for the operations, which are given by `not`, `and` and `or`:"
   ]
  },
  {
   "cell_type": "code",
   "execution_count": 2,
   "metadata": {},
   "outputs": [
    {
     "name": "stdout",
     "output_type": "stream",
     "text": [
      "Not A:   False\n",
      "Not B:   True\n",
      "A and B: False\n",
      "A or B:  True\n"
     ]
    }
   ],
   "source": [
    "A, B = True, False\n",
    "\n",
    "print('Not A:  ', not A)\n",
    "print('Not B:  ', not B)\n",
    "print('A and B:', A and B)\n",
    "print('A or B: ', A or B)"
   ]
  },
  {
   "cell_type": "markdown",
   "metadata": {},
   "source": [
    "Note that Python has some relaxed requirements for Boolean values. The following values are `False`:\n",
    "\n",
    "* `False`.\n",
    "* `None`.\n",
    "* `0`, `0.0` or any other numerical zero.\n",
    "* `[]`, `()`, `''` or any other empty structure.\n",
    "\n",
    "Everything else is `True`."
   ]
  },
  {
   "cell_type": "code",
   "execution_count": 3,
   "metadata": {},
   "outputs": [
    {
     "name": "stdout",
     "output_type": "stream",
     "text": [
      "Of course this will be printed.\n",
      "This works too, but shouldn't be surprising\n",
      "And the above is also True!\n"
     ]
    }
   ],
   "source": [
    "if True:\n",
    "    print('Of course this will be printed.')\n",
    "if 1:\n",
    "    print(\"This works too, but shouldn't be surprising\")\n",
    "if 'The quick brown fox jumps over the lazy dog' and [2, 0, 1, 9]:\n",
    "    print(\"And the above is also True!\")\n",
    "if False:\n",
    "    print('Clearly this will not be printed...')\n",
    "if [] or () or '':\n",
    "    print('... and neither will this.')"
   ]
  },
  {
   "cell_type": "markdown",
   "metadata": {},
   "source": [
    "## 1.2. Numeric types\n",
    "\n",
    "The most important numeric types for us are `int` (integers) and `float` (real numbers). Python also natively supports complex numbers, but we do not care about this.\n",
    "\n",
    "Whenever you define a number by just writing it down, Python will assume it is an integer if it has no decimal part. To make sure it gets treated as a float, you can just append a decimal dot (without needing to add trailing zeroes). For example,"
   ]
  },
  {
   "cell_type": "code",
   "execution_count": 4,
   "metadata": {},
   "outputs": [
    {
     "name": "stdout",
     "output_type": "stream",
     "text": [
      "Is integer an int? True\n",
      "Is integer a float? False\n"
     ]
    }
   ],
   "source": [
    "integer = 1\n",
    "\n",
    "print('Is integer an int?', isinstance(integer, int))\n",
    "print('Is integer a float?', isinstance(integer, float))"
   ]
  },
  {
   "cell_type": "code",
   "execution_count": 5,
   "metadata": {},
   "outputs": [
    {
     "name": "stdout",
     "output_type": "stream",
     "text": [
      "Is realnumber an int? False\n",
      "Is realnumber a float? True\n"
     ]
    }
   ],
   "source": [
    "realnumber = 1.\n",
    "\n",
    "print('Is realnumber an int?', isinstance(realnumber, int))\n",
    "print('Is realnumber a float?', isinstance(realnumber, float))"
   ]
  },
  {
   "cell_type": "markdown",
   "metadata": {},
   "source": [
    "Of course you can operate an `int` with a `float` without issues, and the result will be converted to the more *general* type (in this case, `float`)."
   ]
  },
  {
   "cell_type": "code",
   "execution_count": 6,
   "metadata": {},
   "outputs": [
    {
     "name": "stdout",
     "output_type": "stream",
     "text": [
      "2.0\n"
     ]
    }
   ],
   "source": [
    "print(integer + realnumber)"
   ]
  },
  {
   "cell_type": "markdown",
   "metadata": {},
   "source": [
    "Aside from the expected operations between numbers (`a + b`, `a - b`, `a * b`, `a / b`), Python offers some additional and useful functions out-of-the-box:\n",
    "\n",
    "* `a ** b` gives $a^b$.\n",
    "* `a // b` gives $\\lfloor a/b\\rfloor$. `a % b` gives the result of $a \\: (\\text{mod } b)$. Therefore `b * (a // b) + a % b == a`.\n",
    "* Integers can be converted to floats with `float(n)`, and similarly floats can be converted to integers using `float(x)`.\n",
    "\n",
    "\n",
    "\n"
   ]
  },
  {
   "cell_type": "code",
   "execution_count": 7,
   "metadata": {},
   "outputs": [
    {
     "name": "stdout",
     "output_type": "stream",
     "text": [
      "True\n"
     ]
    }
   ],
   "source": [
    "a, b = 78, 13\n",
    "print(b * (a // b) + a % b == a)"
   ]
  },
  {
   "cell_type": "code",
   "execution_count": 8,
   "metadata": {},
   "outputs": [
    {
     "name": "stdout",
     "output_type": "stream",
     "text": [
      "1.0\n",
      "1\n"
     ]
    }
   ],
   "source": [
    "print(float(integer))\n",
    "print(int(realnumber))"
   ]
  },
  {
   "cell_type": "markdown",
   "metadata": {},
   "source": [
    "Numerical values can also be compared, giving raise to Boolean values. The possible operators are `==` for equality, `!=1` for inequality and `>`, `<`, `>=` and `<=` for the obvious operators."
   ]
  },
  {
   "cell_type": "markdown",
   "metadata": {},
   "source": [
    "## 1.3. Sequential types\n",
    "\n",
    "That is, structures that behave like sequences. We will look at lists and tuples. The main difference between them is that tuples are **not mutable**, meaning that once they have been defined it is not possible to change the value of its elements.\n",
    "\n",
    "Lists are defined using square brackets `[ .. ]`, whereas tuples are defined with parenthesis `( .. )`. Note that they can contain not just numbers as elements: Boolean values, other lists and tuples, strings or dictionaries are also allowed."
   ]
  },
  {
   "cell_type": "code",
   "execution_count": 9,
   "metadata": {},
   "outputs": [],
   "source": [
    "l = [1, 1, 2, 3, 5, 8, 13]\n",
    "t = (-0.618033988749895, 1.61803398874989)"
   ]
  },
  {
   "cell_type": "markdown",
   "metadata": {},
   "source": [
    "Note that there is a *usage* difference between them. While the list `l` gives just the first Fibbonacci numbers, the tuple `t` represents the roots of the polynomial $x^2 - x - 1$. Of course, `l` could be extended by adding numbers (or modified in general, for instance by changing the first value $F_0$ and the rest of them accordingly). However, it doesn't make sense to modify the tuple `t`: the roots are not going to change in any way or form.\n",
    "\n",
    "Some operations can be done on both lists and tuples. For instance, it is possible to check membership by using `in`:"
   ]
  },
  {
   "cell_type": "code",
   "execution_count": 10,
   "metadata": {},
   "outputs": [
    {
     "name": "stdout",
     "output_type": "stream",
     "text": [
      "True\n"
     ]
    }
   ],
   "source": [
    "phi = 1.61803398874989\n",
    "print(phi in t)"
   ]
  },
  {
   "cell_type": "code",
   "execution_count": 11,
   "metadata": {},
   "outputs": [
    {
     "name": "stdout",
     "output_type": "stream",
     "text": [
      "True\n"
     ]
    }
   ],
   "source": [
    "print(1 in l)"
   ]
  },
  {
   "cell_type": "markdown",
   "metadata": {},
   "source": [
    "Something useful is knowing how long your sequence is, which can be found with `len`:"
   ]
  },
  {
   "cell_type": "code",
   "execution_count": 12,
   "metadata": {},
   "outputs": [
    {
     "name": "stdout",
     "output_type": "stream",
     "text": [
      "List l has 7 elements\n",
      "Tuple t has 2 elements\n"
     ]
    }
   ],
   "source": [
    "print('List l has', len(l), 'elements')\n",
    "print('Tuple t has', len(t), 'elements')"
   ]
  },
  {
   "cell_type": "markdown",
   "metadata": {},
   "source": [
    "A somewhat unique example of lists are ranges. They allow you to get a range of integers fast and easily. Let us start with a simple example:"
   ]
  },
  {
   "cell_type": "code",
   "execution_count": 13,
   "metadata": {},
   "outputs": [
    {
     "name": "stdout",
     "output_type": "stream",
     "text": [
      "True\n"
     ]
    }
   ],
   "source": [
    "long_list = [0, 3, 6, 9, 12, 15, 18]\n",
    "print(long_list == list(range(0, 20, 3)))"
   ]
  },
  {
   "cell_type": "markdown",
   "metadata": {},
   "source": [
    "The syntax is simply\n",
    "\n",
    "````python\n",
    "range(start, end, step)\n",
    "````\n",
    "\n",
    "(see below for an explanation of what these terms mean, although they are rather self-explaining). Note that, in general, there is no need to use `list(range(...))`, this is used here just for the comparison (since the result of `range` is actually a different data type)."
   ]
  },
  {
   "cell_type": "code",
   "execution_count": 14,
   "metadata": {},
   "outputs": [
    {
     "data": {
      "text/plain": [
       "True"
      ]
     },
     "execution_count": 14,
     "metadata": {},
     "output_type": "execute_result"
    }
   ],
   "source": [
    "0 in range(0, 20, 3)"
   ]
  },
  {
   "cell_type": "markdown",
   "metadata": {},
   "source": [
    "We can also choose specific elements of `l` and `t` by giving their indices. Recall that both of them are $0$-indexed, meaning that the first term will be the zeroth. To acces the $i$-th element, just use `l[i]`. If $i$ is negative, the search will start from end to beginning, meaning that `l[-1]` is the last element of the sequence `l`. More complex slices can be taken: from the code\n",
    "\n",
    "    l[start:end:step]\n",
    "\n",
    "we will get the elements of `l` at positions `start`, `start`$ + $ `step`, `start` $ + 2$ `step`, etc. until we reach `end`. Note that `l[end]` will not be included.\n",
    "\n",
    "By default, `start` will be zero, and `step` will be one. It is possible to take negative values for `step`, which would mean the list is traversed from right to left. `end` will be in a way $\\text{sign}($ `step` $)\\cdot\\infty$ (meaning that it will go on for as long as possible until it reaches the end of the list)."
   ]
  },
  {
   "cell_type": "code",
   "execution_count": 15,
   "metadata": {},
   "outputs": [
    {
     "name": "stdout",
     "output_type": "stream",
     "text": [
      "[1, 2, 5]\n",
      "-0.618033988749895\n"
     ]
    }
   ],
   "source": [
    "print(l[0:-1:2])\n",
    "print(t[0])"
   ]
  },
  {
   "cell_type": "markdown",
   "metadata": {},
   "source": [
    "One can now see that, if `Z` was somehow a list of all the integers such that `Z[n]` is $n$ for all $n\\in\\mathbb{Z}$, then we should expect\n",
    "\n",
    "````python\n",
    "range(start, end, step) == Z[start:end:step]\n",
    "````"
   ]
  },
  {
   "cell_type": "markdown",
   "metadata": {},
   "source": [
    "An interesting way to define lists is using *list comprehension*. The best way to understand them is with an example:"
   ]
  },
  {
   "cell_type": "code",
   "execution_count": 16,
   "metadata": {},
   "outputs": [
    {
     "name": "stdout",
     "output_type": "stream",
     "text": [
      "[0, 1, 4, 9, 16, 25, 36, 49, 64, 81]\n"
     ]
    }
   ],
   "source": [
    "squares = [a ** 2 for a in range(10)]\n",
    "\n",
    "print(squares)"
   ]
  },
  {
   "cell_type": "markdown",
   "metadata": {},
   "source": [
    "So the code\n",
    "\n",
    "````python\n",
    "[f(a) for a in list]\n",
    "````\n",
    "\n",
    "returns the list\n",
    "\n",
    "````python\n",
    "[f(list[0]), f(list[1]), ..., f(list[len(list)])]\n",
    "````\n",
    "\n",
    "One can extend this by adding conditions for the `a` we take from `list`, as in the following:"
   ]
  },
  {
   "cell_type": "code",
   "execution_count": 17,
   "metadata": {},
   "outputs": [
    {
     "name": "stdout",
     "output_type": "stream",
     "text": [
      "[0, 4, 16, 36, 64]\n"
     ]
    }
   ],
   "source": [
    "even_squares = [a for a in squares if a % 2 == 0]\n",
    "print(even_squares)"
   ]
  },
  {
   "cell_type": "markdown",
   "metadata": {},
   "source": [
    "Of course, multiple (and more complex) conditions can be created by the combined use of `and` and `or`.\n",
    "\n",
    "Recall that we have said that the difference between lists and tuples is that the former can be modified. Indeed, the following example shows it very clearly. Consider the following list and tuple:"
   ]
  },
  {
   "cell_type": "code",
   "execution_count": 18,
   "metadata": {},
   "outputs": [],
   "source": [
    "a, b, c = 1, 2, 3\n",
    "\n",
    "t = (a, b, c)\n",
    "l = [a, b, c]"
   ]
  },
  {
   "cell_type": "markdown",
   "metadata": {},
   "source": [
    "We can modify `l` by just asigning a new value to one of the list elements:"
   ]
  },
  {
   "cell_type": "code",
   "execution_count": 19,
   "metadata": {},
   "outputs": [
    {
     "name": "stdout",
     "output_type": "stream",
     "text": [
      "['a new value', 2, 3]\n"
     ]
    }
   ],
   "source": [
    "l[0] = 'a new value'\n",
    "\n",
    "print(l)"
   ]
  },
  {
   "cell_type": "markdown",
   "metadata": {},
   "source": [
    "But for tuples this doesn't work, and Python complains instead:"
   ]
  },
  {
   "cell_type": "code",
   "execution_count": 20,
   "metadata": {},
   "outputs": [
    {
     "ename": "TypeError",
     "evalue": "'tuple' object does not support item assignment",
     "output_type": "error",
     "traceback": [
      "\u001b[0;31m---------------------------------------------------------------------------\u001b[0m",
      "\u001b[0;31mTypeError\u001b[0m                                 Traceback (most recent call last)",
      "\u001b[0;32m/tmp/ipykernel_38826/1131666323.py\u001b[0m in \u001b[0;36m<module>\u001b[0;34m\u001b[0m\n\u001b[0;32m----> 1\u001b[0;31m \u001b[0mt\u001b[0m\u001b[0;34m[\u001b[0m\u001b[0;36m0\u001b[0m\u001b[0;34m]\u001b[0m \u001b[0;34m=\u001b[0m \u001b[0;34m'tuples are immutable'\u001b[0m\u001b[0;34m\u001b[0m\u001b[0;34m\u001b[0m\u001b[0m\n\u001b[0m",
      "\u001b[0;31mTypeError\u001b[0m: 'tuple' object does not support item assignment"
     ]
    }
   ],
   "source": [
    "t[0] = 'tuples are immutable'"
   ]
  },
  {
   "cell_type": "markdown",
   "metadata": {},
   "source": [
    "We can go further by adding elements to `l` at the end using `append`:"
   ]
  },
  {
   "cell_type": "code",
   "execution_count": 21,
   "metadata": {},
   "outputs": [
    {
     "name": "stdout",
     "output_type": "stream",
     "text": [
      "['a new value', 2, 3, 'this goes last']\n"
     ]
    }
   ],
   "source": [
    "l.append('this goes last')\n",
    "\n",
    "print(l)"
   ]
  },
  {
   "cell_type": "markdown",
   "metadata": {},
   "source": [
    "And even remove some of the values using `del l[i]` (other functions with similar purpose exist: see `pop` or `remove`):"
   ]
  },
  {
   "cell_type": "code",
   "execution_count": 22,
   "metadata": {},
   "outputs": [
    {
     "name": "stdout",
     "output_type": "stream",
     "text": [
      "['a new value', 'this goes last']\n"
     ]
    }
   ],
   "source": [
    "del l[1:3]\n",
    "\n",
    "print(l)"
   ]
  },
  {
   "cell_type": "markdown",
   "metadata": {},
   "source": [
    "## 1.4. Dictionaries\n",
    "\n",
    "Dictionaries store data as (key, value) pairs. The keys are (unique) strings or numbers (note that two numbers that Python considers equal, i.e. such that `a == b` returns `True`, are the same key), and the values can be any data type. They are defined using curly braces `{ .. }`. The pairs must be separated by commas `,`. Let us work with the following example dictionary:"
   ]
  },
  {
   "cell_type": "code",
   "execution_count": 23,
   "metadata": {},
   "outputs": [],
   "source": [
    "oeis = {\n",
    "    'A000000': [0, 1, 1, 1, 2, 1, 2, 1, 5, 2],\n",
    "    'A000001': [1, 2, 2, 1, 1, 2, 1, 2, 2, 1],\n",
    "    'A000002': [1, 1, 1, 1, 2, 2, 1, 2, 2, 2],\n",
    "    'A000003': [0, 0, 0, 0, 0, 0, 0, 0, 0, 0],\n",
    "    'A000004': [1, 2, 2, 3, 2, 4, 2, 4, 3, 4],\n",
    "}"
   ]
  },
  {
   "cell_type": "markdown",
   "metadata": {},
   "source": [
    "The value for a specific key can now be retrieved by using `oeis[key]`, for example as"
   ]
  },
  {
   "cell_type": "code",
   "execution_count": 24,
   "metadata": {},
   "outputs": [
    {
     "data": {
      "text/plain": [
       "[1, 1, 1, 1, 2, 2, 1, 2, 2, 2]"
      ]
     },
     "execution_count": 24,
     "metadata": {},
     "output_type": "execute_result"
    }
   ],
   "source": [
    "oeis['A000002']"
   ]
  },
  {
   "cell_type": "markdown",
   "metadata": {},
   "source": [
    "Whenever the dictionary is *unknown*, one can retrieve the keys and the values by using `oeis.keys()` and `oeis.values()`. This two functions will return a custom type, which can be turned into a list using `list(..)`. Note however that by default they allow you to do the standard operations which may be of interest: finding the length using `len`, checking membership using `in` and iterating over it using `for _ in`. Note that the keys and values will be returned in the same order."
   ]
  },
  {
   "cell_type": "code",
   "execution_count": 25,
   "metadata": {},
   "outputs": [
    {
     "data": {
      "text/plain": [
       "5"
      ]
     },
     "execution_count": 25,
     "metadata": {},
     "output_type": "execute_result"
    }
   ],
   "source": [
    "len(oeis.values())"
   ]
  },
  {
   "cell_type": "code",
   "execution_count": 26,
   "metadata": {},
   "outputs": [
    {
     "data": {
      "text/plain": [
       "True"
      ]
     },
     "execution_count": 26,
     "metadata": {},
     "output_type": "execute_result"
    }
   ],
   "source": [
    "'A000002' in oeis.keys()"
   ]
  },
  {
   "cell_type": "markdown",
   "metadata": {},
   "source": [
    "Sometimes it may be desirable to access all pairs of keys and values in the dictionary at the same time. This is possible with the method `oeis.items()`, which will return a list of tuples `(key, value)`:"
   ]
  },
  {
   "cell_type": "code",
   "execution_count": 27,
   "metadata": {},
   "outputs": [
    {
     "name": "stdout",
     "output_type": "stream",
     "text": [
      "The sequence A000000 starts with 0\n",
      "The sequence A000001 starts with 1\n",
      "The sequence A000002 starts with 1\n",
      "The sequence A000003 starts with 0\n",
      "The sequence A000004 starts with 1\n"
     ]
    }
   ],
   "source": [
    "for (key, value) in oeis.items():\n",
    "    print('The sequence', key, 'starts with', value[0])"
   ]
  },
  {
   "cell_type": "markdown",
   "metadata": {},
   "source": [
    "New values can be added to the dictionary (and existing ones can be altered) by just providing the corresponding key:"
   ]
  },
  {
   "cell_type": "code",
   "execution_count": 28,
   "metadata": {},
   "outputs": [
    {
     "name": "stdout",
     "output_type": "stream",
     "text": [
      "{'A000000': [0, 1, 1, 1, 2, 1, 2, 1, 5, 2], 'A000001': [1, 2, 2, 1, 1, 2, 1, 2, 2, 1], 'A000002': [1, 1, 1, 1, 2, 2, 1, 2, 2, 2], 'A000003': [0, 0, 0, 0, 0, 0, 0, 0, 0, 0], 'A000004': [1, 2, 2, 3, 2, 4, 2, 4, 3, 4], 'A000006': [1, 1, 2, 2, 3, 3, 4, 4, 4, 5]}\n"
     ]
    }
   ],
   "source": [
    "oeis['A000006'] = [1, 1, 2, 2, 3, 3, 4, 4, 4, 5]\n",
    "print(oeis)"
   ]
  },
  {
   "cell_type": "markdown",
   "metadata": {},
   "source": [
    "# 2. Advanced statements \n",
    "\n",
    "Loops allow you to do similar work several times in a row according to some conditions. In Python, just like in any other modern language, one may easily use the `for` loop, the `if` conditional and the `while` loop.\n",
    "\n",
    "## 2.1. The `for` loop\n",
    "\n",
    "The syntax for the for loop in Python is\n",
    "\n",
    "```python\n",
    "for element in list:\n",
    "    function(element)\n",
    "```\n",
    "\n",
    "This tells Python to go over every `element` in `list` and, for each one, perform a given action. Of course, at every step you can use the current `element` for whatever you want. For instance, the following short code prints the square of the first 10 natural numbers."
   ]
  },
  {
   "cell_type": "code",
   "execution_count": 29,
   "metadata": {},
   "outputs": [
    {
     "name": "stdout",
     "output_type": "stream",
     "text": [
      "0\n",
      "1\n",
      "4\n",
      "9\n",
      "16\n",
      "25\n",
      "36\n",
      "49\n",
      "64\n",
      "81\n"
     ]
    }
   ],
   "source": [
    "for n in range(10):\n",
    "    print(n**2)"
   ]
  },
  {
   "cell_type": "markdown",
   "metadata": {},
   "source": [
    "Of course, we take zero to be the first natural number.\n",
    "\n",
    "Note that in the previous example we iterated over a `range`, which is not exactly a list. Still, Python understands this and the snippet works fine. In general, one may use a `for` loop over any iterator:\n",
    "\n",
    "- Ranges\n",
    "- Lists (including strings, as an case of list of `char`s)\n",
    "- Tuples\n",
    "- Dictionaries (the iteration will happen over the *keys*)\n",
    "\n",
    "## 2.2. The `while` loop\n",
    "\n",
    "The behaviour is similar to the case of `for`, only in this case the loop will continue not until we run out of elements to iterate, but until its argument becomes false. The syntax is\n",
    "\n",
    "```python\n",
    "while boolean_value:\n",
    "    function()\n",
    "```\n",
    "\n",
    "For example, the following snippet gives us the first natural number such that $e^n > M$."
   ]
  },
  {
   "cell_type": "code",
   "execution_count": 30,
   "metadata": {},
   "outputs": [
    {
     "name": "stdout",
     "output_type": "stream",
     "text": [
      "24 26489122129.84347\n"
     ]
    }
   ],
   "source": [
    "import math\n",
    "M, n = 1e10, 0\n",
    "while math.exp(n) <= M:\n",
    "    n = n + 1\n",
    "print(n, math.exp(n))"
   ]
  },
  {
   "cell_type": "markdown",
   "metadata": {},
   "source": [
    "## 2.3. The `if` statement\n",
    "\n",
    "As in other languages, `if`/`else` statements allow you to perform actions based on logic. In Python this is achieved using the syntax\n",
    "\n",
    "```python\n",
    "if condition_one:\n",
    "    first_function()\n",
    "elif condition_two:\n",
    "    second_function()\n",
    "elif condition_three:\n",
    "    third_function()\n",
    "else:\n",
    "    last_option()\n",
    "```\n",
    "\n",
    "Python will first check whether `condition_one` is `True`. If it is, it will perform the `first_function` and, afterwards, skip the rest. If it is not, it will then check if `condition_two`, and keep doing that for any additional `elif` statement. Finally, if all conditions turn out to be `False`, it will do whatever happens in the `else` part.\n",
    "\n",
    "Note that one may have a lone `if` condition without any `elif` or `else` clause."
   ]
  },
  {
   "cell_type": "markdown",
   "metadata": {},
   "source": [
    "## 2.4. Further control\n",
    "\n",
    "There are other functions that allow you to get even more control over the flow of the program.\n",
    "\n",
    "### 2.4.1. Continuing\n",
    "\n",
    "While inside a `for` loop, the command `continue` mandates to finish the current iteration and jump straight to the next one."
   ]
  },
  {
   "cell_type": "code",
   "execution_count": 31,
   "metadata": {},
   "outputs": [
    {
     "name": "stdout",
     "output_type": "stream",
     "text": [
      "1\n",
      "3\n",
      "5\n",
      "7\n",
      "9\n"
     ]
    }
   ],
   "source": [
    "for element in range(10):\n",
    "    if element % 2 == 0:\n",
    "        continue\n",
    "    print(element)"
   ]
  },
  {
   "cell_type": "markdown",
   "metadata": {},
   "source": [
    "### 2.4.2. Breaking\n",
    "\n",
    "When inside a `for` or a `while` loop, using `break` stops the looping process. For instance, one might want to find the first element in a list satisfying a given condition."
   ]
  },
  {
   "cell_type": "code",
   "execution_count": 32,
   "metadata": {},
   "outputs": [
    {
     "name": "stdout",
     "output_type": "stream",
     "text": [
      "Checking for 1\n",
      "Checking for 2\n",
      "Checking for 4\n",
      "Checking for 5\n",
      "Checking for 7\n",
      "Checking for 8\n",
      "Checking for 9\n",
      "Found: 9\n"
     ]
    }
   ],
   "source": [
    "l = [1, 2, 4, 5, 7, 8, 9, 11, 12, 13, 16]\n",
    "\n",
    "for element in l:\n",
    "    print('Checking for', element)\n",
    "    if element % 3 == 0:\n",
    "        print('Found:', element)\n",
    "        break"
   ]
  },
  {
   "cell_type": "markdown",
   "metadata": {},
   "source": [
    "Note that using `break` will stop the innermost loop. So, if there are nested loops, only the last one to start will be finished.\n",
    "\n",
    "### 2.4.3. Passing\n",
    "\n",
    "Using `pass` does essentially nothing, but it may be useful as a placeholder for some other function that has to be added."
   ]
  },
  {
   "cell_type": "code",
   "execution_count": 33,
   "metadata": {},
   "outputs": [],
   "source": [
    "for element in range(30):\n",
    "    if element % 7 == 0:\n",
    "        pass # Do something else here instead"
   ]
  },
  {
   "cell_type": "markdown",
   "metadata": {},
   "source": [
    "### 2.4.4. Asserting\n",
    "\n",
    "The `assert` command forces its argument to be break, otherwise it will raise an error. This is useful when a program raises an error and you want to find it: adding assertions will tell us when what should happen is not happening. The syntax is simple, and allows for a custom error message to be added:\n",
    "\n",
    "```python\n",
    "message_error = 'Oops, something went wrong!'\n",
    "assert condition, message_error\n",
    "```\n",
    "\n",
    "For instance, imagine we have a list of even numbers that we want to divide by two and print. It might make sense to ensure that the numbers are indeed even."
   ]
  },
  {
   "cell_type": "code",
   "execution_count": 34,
   "metadata": {},
   "outputs": [
    {
     "name": "stdout",
     "output_type": "stream",
     "text": [
      "1\n",
      "3\n",
      "4\n",
      "5\n",
      "8\n",
      "13\n",
      "14\n"
     ]
    }
   ],
   "source": [
    "l = [2, 6, 8, 10, 16, 26, 28]\n",
    "\n",
    "for element in l:\n",
    "    assert element % 2 == 0, 'Not an even number!'\n",
    "    print(element//2)"
   ]
  },
  {
   "cell_type": "markdown",
   "metadata": {},
   "source": [
    "If our list was bad, the assertion would tell us that something is wrong."
   ]
  },
  {
   "cell_type": "code",
   "execution_count": 35,
   "metadata": {},
   "outputs": [
    {
     "name": "stdout",
     "output_type": "stream",
     "text": [
      "1\n",
      "3\n",
      "4\n"
     ]
    },
    {
     "ename": "AssertionError",
     "evalue": "Not an even number!",
     "output_type": "error",
     "traceback": [
      "\u001b[0;31m---------------------------------------------------------------------------\u001b[0m",
      "\u001b[0;31mAssertionError\u001b[0m                            Traceback (most recent call last)",
      "\u001b[0;32m/tmp/ipykernel_38826/3618698844.py\u001b[0m in \u001b[0;36m<module>\u001b[0;34m\u001b[0m\n\u001b[1;32m      2\u001b[0m \u001b[0;34m\u001b[0m\u001b[0m\n\u001b[1;32m      3\u001b[0m \u001b[0;32mfor\u001b[0m \u001b[0melement\u001b[0m \u001b[0;32min\u001b[0m \u001b[0ml\u001b[0m\u001b[0;34m:\u001b[0m\u001b[0;34m\u001b[0m\u001b[0;34m\u001b[0m\u001b[0m\n\u001b[0;32m----> 4\u001b[0;31m     \u001b[0;32massert\u001b[0m \u001b[0melement\u001b[0m \u001b[0;34m%\u001b[0m \u001b[0;36m2\u001b[0m \u001b[0;34m==\u001b[0m \u001b[0;36m0\u001b[0m\u001b[0;34m,\u001b[0m \u001b[0;34m'Not an even number!'\u001b[0m\u001b[0;34m\u001b[0m\u001b[0;34m\u001b[0m\u001b[0m\n\u001b[0m\u001b[1;32m      5\u001b[0m     \u001b[0mprint\u001b[0m\u001b[0;34m(\u001b[0m\u001b[0melement\u001b[0m\u001b[0;34m//\u001b[0m\u001b[0;36m2\u001b[0m\u001b[0;34m)\u001b[0m\u001b[0;34m\u001b[0m\u001b[0;34m\u001b[0m\u001b[0m\n",
      "\u001b[0;31mAssertionError\u001b[0m: Not an even number!"
     ]
    }
   ],
   "source": [
    "l = [2, 6, 8, 11, 16, 26, 28]\n",
    "\n",
    "for element in l:\n",
    "    assert element % 2 == 0, 'Not an even number!'\n",
    "    print(element//2)"
   ]
  },
  {
   "cell_type": "markdown",
   "metadata": {},
   "source": [
    "### 2.4.5. Trying\n",
    "\n",
    "The `try` command allows you to try to execute a piece of code and provide a fallback in case the code raises an error. The most basic syntax looks like\n",
    "```python\n",
    "try:\n",
    "    check_condition(n)\n",
    "except:\n",
    "    print('There was an error! Trying option b instead.')\n",
    "    b_function(n)\n",
    "else:\n",
    "    a_function(n)\n",
    "```\n",
    "Note that the `except` part can have more options depending on the error raised when interpreting the code, for more information one may consult the Python documentation.\n",
    "\n",
    "As an example of when this could be useful, consider the following circumstance: you want a function that receives a number as input and prints its square, but if it receives a list it prints the square of every number. Then you could do"
   ]
  },
  {
   "cell_type": "code",
   "execution_count": 36,
   "metadata": {},
   "outputs": [],
   "source": [
    "def print_squares(arg):\n",
    "    try:\n",
    "        xs = iter(arg)\n",
    "    except:\n",
    "        print(arg**2)\n",
    "    else:\n",
    "        for x in xs:\n",
    "            print_squares(x)"
   ]
  },
  {
   "cell_type": "markdown",
   "metadata": {},
   "source": [
    "The code will first try to turn the argument `arg` into an iterator. This is only possible if it is a list, a range or a similar structure, not if it is a number. So if it is a number it will raise a `TypeError` and proceed to the `except` clause, which simply prints the square.\n",
    "\n",
    "If `arg` is indeed an iterator, then the process is repeated for every element inside `arg`."
   ]
  },
  {
   "cell_type": "code",
   "execution_count": 37,
   "metadata": {},
   "outputs": [
    {
     "name": "stdout",
     "output_type": "stream",
     "text": [
      "144\n"
     ]
    }
   ],
   "source": [
    "print_squares(12)"
   ]
  },
  {
   "cell_type": "code",
   "execution_count": 38,
   "metadata": {},
   "outputs": [
    {
     "name": "stdout",
     "output_type": "stream",
     "text": [
      "1\n",
      "4\n",
      "9\n",
      "25\n",
      "64\n"
     ]
    }
   ],
   "source": [
    "print_squares([1, 2, 3, 5, 8])"
   ]
  },
  {
   "cell_type": "code",
   "execution_count": 39,
   "metadata": {},
   "outputs": [
    {
     "name": "stdout",
     "output_type": "stream",
     "text": [
      "4\n",
      "64\n",
      "1024\n",
      "4\n",
      "9\n",
      "25\n"
     ]
    }
   ],
   "source": [
    "print_squares([[2, 8, 32], [2, 3, 5]])"
   ]
  },
  {
   "cell_type": "markdown",
   "metadata": {},
   "source": [
    "### 2.4.6. Using `else` in loops\n",
    "\n",
    "With loops, and with the `try` statement, one may use an else clause in case the loop finishes without a break. Consider for instance the following example."
   ]
  },
  {
   "cell_type": "code",
   "execution_count": 40,
   "metadata": {},
   "outputs": [
    {
     "name": "stdout",
     "output_type": "stream",
     "text": [
      "No multiples of 6 found\n"
     ]
    }
   ],
   "source": [
    "l = [1, 2, 4, 5, 7, 8, 9, 11, 15, 13, 16]\n",
    "p = 6\n",
    "\n",
    "for element in l:\n",
    "    if element % p == 0:\n",
    "        print('Found:', element)\n",
    "        break\n",
    "else:\n",
    "    print('No multiples of', p, 'found')"
   ]
  },
  {
   "cell_type": "markdown",
   "metadata": {},
   "source": [
    "If we change the list slightly so as to trigger the `break`, the `else` part will not show up:"
   ]
  },
  {
   "cell_type": "code",
   "execution_count": 41,
   "metadata": {},
   "outputs": [
    {
     "name": "stdout",
     "output_type": "stream",
     "text": [
      "Found: 12\n"
     ]
    }
   ],
   "source": [
    "l = [1, 2, 4, 5, 7, 8, 9, 11, 12, 13, 16]\n",
    "p = 6\n",
    "\n",
    "for element in l:\n",
    "    if element % p == 0:\n",
    "        print('Found:', element)\n",
    "        break\n",
    "else:\n",
    "    print('No multiples of', p, 'found')"
   ]
  },
  {
   "cell_type": "markdown",
   "metadata": {},
   "source": [
    "# 3. Functions\n",
    "\n",
    "Functions are the essential part of any programming language, since they allow you to automate the workload and repeat redundant code.\n",
    "\n",
    "## 3.1. Definition\n",
    "\n",
    "The basic syntax for function definition in Python is\n",
    "```python\n",
    "def function_name(argument_one, argument_two, argument_three):\n",
    "    temp = argument_one + argument_two + argument_three\n",
    "    temp = temp**2\n",
    "    return temp\n",
    "```\n",
    "When called with arguments $a$, $b$ and $c$, the above function will return $(a+b+c)^2$. Note that a function can return more than one argument, by using\n",
    "```python\n",
    "    return one, two, three\n",
    "```\n",
    "This is useful if, for instance, you want to return a main result but also some intermediate calculation. Note that all the variables defined inside of a function are *forgotten* and removed from memory once the function finishes execution.\n",
    "\n",
    "Note, moreover, than when *receiving* the return of a function, some of them can be ignored. Consider the following example:"
   ]
  },
  {
   "cell_type": "code",
   "execution_count": 42,
   "metadata": {},
   "outputs": [
    {
     "name": "stdout",
     "output_type": "stream",
     "text": [
      "(9, 3)\n"
     ]
    }
   ],
   "source": [
    "def min_squared(a, b, c):\n",
    "    minimum = min(a, b, c)\n",
    "    return minimum**2, minimum\n",
    "\n",
    "print(min_squared(5, 3, 4))"
   ]
  },
  {
   "cell_type": "markdown",
   "metadata": {},
   "source": [
    "If one only cares about the final result and not about the number chosen to be the minimum, one could use"
   ]
  },
  {
   "cell_type": "code",
   "execution_count": 43,
   "metadata": {},
   "outputs": [
    {
     "name": "stdout",
     "output_type": "stream",
     "text": [
      "9\n"
     ]
    }
   ],
   "source": [
    "result, _ = min_squared(5, 3, 4)\n",
    "print(result)"
   ]
  },
  {
   "cell_type": "markdown",
   "metadata": {},
   "source": [
    "The underscore, `_`, acts here as a placeholder for a parameter we do not care about.\n",
    "\n",
    "By the way, a function does *not* need to have a `return` statement. For instance, it might simply print some stuff and do nothing more, hence there is no need to return anything.\n",
    "\n",
    "## 3.2. Default arguments\n",
    "\n",
    "When defining a function, you may add a default argument in the definition that will be used if, when the function is called, the argument does not appear. Be careful: the arguments with a default option must all appear at the end! The syntax is"
   ]
  },
  {
   "cell_type": "code",
   "execution_count": 44,
   "metadata": {},
   "outputs": [],
   "source": [
    "def fibb(n, verbose = False):\n",
    "    a, b = 0, 1\n",
    "    for i in range(n):\n",
    "        c = a + b\n",
    "        a = b\n",
    "        b = c\n",
    "        if verbose:\n",
    "            print(b)\n",
    "    return b"
   ]
  },
  {
   "cell_type": "markdown",
   "metadata": {},
   "source": [
    "When defining the arguments, ```verbose = False``` means that, whenever there is no second argument, `False` will be used by default. Now one may call the function in several ways:"
   ]
  },
  {
   "cell_type": "code",
   "execution_count": 45,
   "metadata": {},
   "outputs": [
    {
     "data": {
      "text/plain": [
       "21"
      ]
     },
     "execution_count": 45,
     "metadata": {},
     "output_type": "execute_result"
    }
   ],
   "source": [
    "fibb(7)"
   ]
  },
  {
   "cell_type": "code",
   "execution_count": 46,
   "metadata": {},
   "outputs": [
    {
     "name": "stdout",
     "output_type": "stream",
     "text": [
      "1\n",
      "2\n",
      "3\n",
      "5\n",
      "8\n",
      "13\n",
      "21\n"
     ]
    },
    {
     "data": {
      "text/plain": [
       "21"
      ]
     },
     "execution_count": 46,
     "metadata": {},
     "output_type": "execute_result"
    }
   ],
   "source": [
    "fibb(7, True)"
   ]
  },
  {
   "cell_type": "code",
   "execution_count": 47,
   "metadata": {},
   "outputs": [
    {
     "data": {
      "text/plain": [
       "21"
      ]
     },
     "execution_count": 47,
     "metadata": {},
     "output_type": "execute_result"
    }
   ],
   "source": [
    "fibb(n = 7, verbose = False)"
   ]
  },
  {
   "cell_type": "markdown",
   "metadata": {},
   "source": [
    "When working with several functions, each with several arguments, typing out the name of every argument may be a good option. While it is not immediate to check if an argument has been given, a workaround can be assigning a default value of `argument = None` and checking if it has been redefined using\n",
    "```python\n",
    "if argument is None\n",
    "```\n",
    "\n",
    "## 3.3. Additional arguments\n",
    "\n",
    "Sometimes you may want to leave room for some extra arguments, but you don't know how many they are nor how do they look. Let us start with an example. Consider the following:"
   ]
  },
  {
   "cell_type": "code",
   "execution_count": 48,
   "metadata": {},
   "outputs": [],
   "source": [
    "def zip_list(xs, ys, function):\n",
    "    assert len(xs) == len(ys)\n",
    "    return [function(xs[i], ys[i]) for i in range(len(xs))]\n",
    "\n",
    "def divide_by(p, q, r = 2):\n",
    "    return (p + q)/r\n",
    "\n",
    "def nth_power(x, y, n = 2):\n",
    "    return (x + y)**n"
   ]
  },
  {
   "cell_type": "markdown",
   "metadata": {},
   "source": [
    "Essentially, given a couple of lists, we want to get a list of the function applied to couples of elements from the two list in the same order. The code works fine, for instance"
   ]
  },
  {
   "cell_type": "code",
   "execution_count": 49,
   "metadata": {},
   "outputs": [
    {
     "name": "stdout",
     "output_type": "stream",
     "text": [
      "[5.5, 9.0, 13.5, 18.0, 20.5]\n",
      "[121, 324, 729, 1296, 1681]\n"
     ]
    }
   ],
   "source": [
    "xs, ys = [1, 2, 3, 4, 5], [10, 16, 24, 32, 36]\n",
    "\n",
    "print(zip_list(xs, ys, divide_by))\n",
    "print(zip_list(xs, ys, nth_power))"
   ]
  },
  {
   "cell_type": "markdown",
   "metadata": {},
   "source": [
    "This works fine, but what if we want to tune the arguments of the function we apply?\n",
    "\n",
    "### 3.3.1.`*args`\n",
    "\n",
    "The `*args` command allows you to get an undefined amount of simple arguments at the end of a function. For instance,"
   ]
  },
  {
   "cell_type": "code",
   "execution_count": 50,
   "metadata": {},
   "outputs": [],
   "source": [
    "def print_all_arguments(*args):\n",
    "    for a in args:\n",
    "        print(a)"
   ]
  },
  {
   "cell_type": "code",
   "execution_count": 51,
   "metadata": {},
   "outputs": [
    {
     "name": "stdout",
     "output_type": "stream",
     "text": [
      "12\n",
      "34\n",
      "56\n",
      "78\n",
      "90\n"
     ]
    }
   ],
   "source": [
    "print_all_arguments(12, 34, 56, 78, 90)"
   ]
  },
  {
   "cell_type": "markdown",
   "metadata": {},
   "source": [
    "Note that, when we want to recover the arguments, we drop the asterisk `*` and call `args` simply.\n",
    "\n",
    "### 3.3.2. `**kwargs`\n",
    "\n",
    "Maybe more importantly, the `**kwargs` command recovers all *keyworded* arguments, i.e. those of the form `key = argument`. Following the previous example, a simple modification to `zip_list` allows us to send all *extra* information to be processed to the `function`:"
   ]
  },
  {
   "cell_type": "code",
   "execution_count": 52,
   "metadata": {},
   "outputs": [],
   "source": [
    "def zip_list(xs, ys, function, **kwargs):\n",
    "    assert len(xs) == len(ys)\n",
    "    return [function(xs[i], ys[i], **kwargs) for i in range(len(xs))]\n",
    "\n",
    "def divide_by(p, q, r = 2):\n",
    "    return (p + q)/r\n",
    "\n",
    "def nth_power(x, y, n = 2):\n",
    "    return (x + y)**n"
   ]
  },
  {
   "cell_type": "markdown",
   "metadata": {},
   "source": [
    "Now we can use keyworded arguments to modify the functions."
   ]
  },
  {
   "cell_type": "code",
   "execution_count": 53,
   "metadata": {},
   "outputs": [
    {
     "name": "stdout",
     "output_type": "stream",
     "text": [
      "[1.1, 1.8, 2.7, 3.6, 4.1]\n",
      "[14641, 104976, 531441, 1679616, 2825761]\n"
     ]
    }
   ],
   "source": [
    "print(zip_list(xs, ys, divide_by, r = 10))\n",
    "print(zip_list(xs, ys, nth_power, n = 4))"
   ]
  },
  {
   "cell_type": "markdown",
   "metadata": {},
   "source": [
    "The arguments will now be stored in a dictionary. To see how to access them, see the following definition:"
   ]
  },
  {
   "cell_type": "code",
   "execution_count": 54,
   "metadata": {},
   "outputs": [],
   "source": [
    "def print_all_kwarguments(**kwargs):\n",
    "    for (k, v) in kwargs.items():\n",
    "        print('Key:', k)\n",
    "        print('Value', v)"
   ]
  },
  {
   "cell_type": "code",
   "execution_count": 55,
   "metadata": {},
   "outputs": [
    {
     "name": "stdout",
     "output_type": "stream",
     "text": [
      "Key: e\n",
      "Value 2.71\n",
      "Key: pi\n",
      "Value 3.14\n"
     ]
    }
   ],
   "source": [
    "print_all_kwarguments(e = 2.71, pi = 3.14)"
   ]
  },
  {
   "cell_type": "markdown",
   "metadata": {},
   "source": [
    "### 3.3.3. Position vs keyword\n",
    "\n",
    "By now you should have realized that there are two ways of passing arguments to a function (and of defining a function to accept those arguments): by position and by keyword. The (big) advantage of using keywords is that you do not need to remember the specific order of the arguments. But it also makes your code less error-prone (no strange mistakes because you swapped two numbers and didn't notice) and cleaner (easy to identify what every argument means when calling a function)."
   ]
  },
  {
   "cell_type": "code",
   "execution_count": 56,
   "metadata": {},
   "outputs": [],
   "source": [
    "def exponential(base = 2, exponent = 1):\n",
    "    return base**exponent"
   ]
  },
  {
   "cell_type": "code",
   "execution_count": 57,
   "metadata": {},
   "outputs": [
    {
     "data": {
      "text/plain": [
       "125"
      ]
     },
     "execution_count": 57,
     "metadata": {},
     "output_type": "execute_result"
    }
   ],
   "source": [
    "exponential(exponent = 3, base = 5)"
   ]
  },
  {
   "cell_type": "markdown",
   "metadata": {},
   "source": [
    "Of course, there are situations where positional arguments make sense and others where you will be better off if you use keyworded arguments for your functions. Note also that, when giving arguments for a function, they must be in the correct order:\n",
    "\n",
    "\n",
    "<center><b> positional, keyworded, *positional, **keyworded </b></center>"
   ]
  },
  {
   "cell_type": "markdown",
   "metadata": {},
   "source": [
    "## 3.4. Lambda functions\n",
    "\n",
    "Lambda functions provide a fast way of defining very simple functions. It is best seen with an example: "
   ]
  },
  {
   "cell_type": "code",
   "execution_count": 58,
   "metadata": {},
   "outputs": [],
   "source": [
    "average = lambda xs : sum(xs)/len(xs)"
   ]
  },
  {
   "cell_type": "markdown",
   "metadata": {},
   "source": [
    "Above, `average` is the name of the function, `lambda` is the keyword to indicate that we are defining such a function, `xs` is the argument (more could be added separating them with commas). The colon `:` marks the separation between arguments and the function itself. Then everything to the right of the colon will be returned."
   ]
  },
  {
   "cell_type": "code",
   "execution_count": 59,
   "metadata": {},
   "outputs": [
    {
     "data": {
      "text/plain": [
       "3.0"
      ]
     },
     "execution_count": 59,
     "metadata": {},
     "output_type": "execute_result"
    }
   ],
   "source": [
    "average(xs)"
   ]
  },
  {
   "cell_type": "markdown",
   "metadata": {},
   "source": [
    "# 4. Packages\n",
    "\n",
    "One of the best things about Python is the fact that it has a lot of packages that already implement most of the programs that one may need."
   ]
  },
  {
   "cell_type": "markdown",
   "metadata": {},
   "source": [
    "## 4.1 Loading packages\n",
    "\n",
    "There are several ways of loading a package into Python, with some differences."
   ]
  },
  {
   "cell_type": "code",
   "execution_count": 60,
   "metadata": {},
   "outputs": [],
   "source": [
    "import numpy"
   ]
  },
  {
   "cell_type": "markdown",
   "metadata": {},
   "source": [
    "This allows you to use every function that `numpy` defines on your document. The syntax for such functions is"
   ]
  },
  {
   "cell_type": "code",
   "execution_count": 61,
   "metadata": {},
   "outputs": [
    {
     "data": {
      "text/plain": [
       "20"
      ]
     },
     "execution_count": 61,
     "metadata": {},
     "output_type": "execute_result"
    }
   ],
   "source": [
    "numpy.multiply(4, 5)"
   ]
  },
  {
   "cell_type": "markdown",
   "metadata": {},
   "source": [
    "When the name of the imported module is longer, it makes sense to import it with a different prefix. This can be done using"
   ]
  },
  {
   "cell_type": "code",
   "execution_count": 62,
   "metadata": {},
   "outputs": [],
   "source": [
    "import numpy as np"
   ]
  },
  {
   "cell_type": "markdown",
   "metadata": {},
   "source": [
    "Now the syntax becomes"
   ]
  },
  {
   "cell_type": "code",
   "execution_count": 63,
   "metadata": {},
   "outputs": [
    {
     "data": {
      "text/plain": [
       "18"
      ]
     },
     "execution_count": 63,
     "metadata": {},
     "output_type": "execute_result"
    }
   ],
   "source": [
    "np.multiply(3, 6)"
   ]
  },
  {
   "cell_type": "markdown",
   "metadata": {},
   "source": [
    "In case you really don't want to deal with prefixes, an option is importing a function directly, via"
   ]
  },
  {
   "cell_type": "code",
   "execution_count": 64,
   "metadata": {},
   "outputs": [],
   "source": [
    "from numpy import multiply"
   ]
  },
  {
   "cell_type": "markdown",
   "metadata": {},
   "source": [
    "Now you can just say"
   ]
  },
  {
   "cell_type": "code",
   "execution_count": 65,
   "metadata": {},
   "outputs": [
    {
     "data": {
      "text/plain": [
       "14"
      ]
     },
     "execution_count": 65,
     "metadata": {},
     "output_type": "execute_result"
    }
   ],
   "source": [
    "multiply(7, 2)"
   ]
  },
  {
   "cell_type": "markdown",
   "metadata": {},
   "source": [
    "It is possible to import several functions from the same statement, using\n",
    "```python\n",
    "from numpy import multiply, array\n",
    "```\n",
    "or just import everything in the package as\n",
    "```python\n",
    "from numpy import *\n",
    "```\n",
    "However, for huge packages like NumPy, this is discouraged."
   ]
  },
  {
   "cell_type": "markdown",
   "metadata": {},
   "source": [
    "## 4.2 Documentation\n",
    "\n",
    "Oftentimes you will be interested in knowing the documentation of some function, for instance to understand what the inputs should be. Of course, navigating to the corresponding website (or searching the problem) is an option. In case you want to stay in your notebook, however, Jupyter provides two ways of displaying the `docstring` (that is, the command documentation) of a function.\n",
    "\n",
    "The first one is simply typing the command, but with a question mark `?` before:"
   ]
  },
  {
   "cell_type": "code",
   "execution_count": 66,
   "metadata": {},
   "outputs": [
    {
     "data": {
      "text/plain": [
       "\u001b[0;31mCall signature:\u001b[0m  \u001b[0mmultiply\u001b[0m\u001b[0;34m(\u001b[0m\u001b[0;34m*\u001b[0m\u001b[0margs\u001b[0m\u001b[0;34m,\u001b[0m \u001b[0;34m**\u001b[0m\u001b[0mkwargs\u001b[0m\u001b[0;34m)\u001b[0m\u001b[0;34m\u001b[0m\u001b[0;34m\u001b[0m\u001b[0m\n",
       "\u001b[0;31mType:\u001b[0m            ufunc\n",
       "\u001b[0;31mString form:\u001b[0m     <ufunc 'multiply'>\n",
       "\u001b[0;31mFile:\u001b[0m            ~/.local/lib/python3.8/site-packages/numpy/__init__.py\n",
       "\u001b[0;31mDocstring:\u001b[0m      \n",
       "multiply(x1, x2, /, out=None, *, where=True, casting='same_kind', order='K', dtype=None, subok=True[, signature, extobj])\n",
       "\n",
       "Multiply arguments element-wise.\n",
       "\n",
       "Parameters\n",
       "----------\n",
       "x1, x2 : array_like\n",
       "    Input arrays to be multiplied.\n",
       "    If ``x1.shape != x2.shape``, they must be broadcastable to a common\n",
       "    shape (which becomes the shape of the output).\n",
       "out : ndarray, None, or tuple of ndarray and None, optional\n",
       "    A location into which the result is stored. If provided, it must have\n",
       "    a shape that the inputs broadcast to. If not provided or None,\n",
       "    a freshly-allocated array is returned. A tuple (possible only as a\n",
       "    keyword argument) must have length equal to the number of outputs.\n",
       "where : array_like, optional\n",
       "    This condition is broadcast over the input. At locations where the\n",
       "    condition is True, the `out` array will be set to the ufunc result.\n",
       "    Elsewhere, the `out` array will retain its original value.\n",
       "    Note that if an uninitialized `out` array is created via the default\n",
       "    ``out=None``, locations within it where the condition is False will\n",
       "    remain uninitialized.\n",
       "**kwargs\n",
       "    For other keyword-only arguments, see the\n",
       "    :ref:`ufunc docs <ufuncs.kwargs>`.\n",
       "\n",
       "Returns\n",
       "-------\n",
       "y : ndarray\n",
       "    The product of `x1` and `x2`, element-wise.\n",
       "    This is a scalar if both `x1` and `x2` are scalars.\n",
       "\n",
       "Notes\n",
       "-----\n",
       "Equivalent to `x1` * `x2` in terms of array broadcasting.\n",
       "\n",
       "Examples\n",
       "--------\n",
       ">>> np.multiply(2.0, 4.0)\n",
       "8.0\n",
       "\n",
       ">>> x1 = np.arange(9.0).reshape((3, 3))\n",
       ">>> x2 = np.arange(3.0)\n",
       ">>> np.multiply(x1, x2)\n",
       "array([[  0.,   1.,   4.],\n",
       "       [  0.,   4.,  10.],\n",
       "       [  0.,   7.,  16.]])\n",
       "\n",
       "The ``*`` operator can be used as a shorthand for ``np.multiply`` on\n",
       "ndarrays.\n",
       "\n",
       ">>> x1 = np.arange(9.0).reshape((3, 3))\n",
       ">>> x2 = np.arange(3.0)\n",
       ">>> x1 * x2\n",
       "array([[  0.,   1.,   4.],\n",
       "       [  0.,   4.,  10.],\n",
       "       [  0.,   7.,  16.]])\n",
       "\u001b[0;31mClass docstring:\u001b[0m\n",
       "Functions that operate element by element on whole arrays.\n",
       "\n",
       "To see the documentation for a specific ufunc, use `info`.  For\n",
       "example, ``np.info(np.sin)``.  Because ufuncs are written in C\n",
       "(for speed) and linked into Python with NumPy's ufunc facility,\n",
       "Python's help() function finds this page whenever help() is called\n",
       "on a ufunc.\n",
       "\n",
       "A detailed explanation of ufuncs can be found in the docs for :ref:`ufuncs`.\n",
       "\n",
       "**Calling ufuncs:** ``op(*x[, out], where=True, **kwargs)``\n",
       "\n",
       "Apply `op` to the arguments `*x` elementwise, broadcasting the arguments.\n",
       "\n",
       "The broadcasting rules are:\n",
       "\n",
       "* Dimensions of length 1 may be prepended to either array.\n",
       "* Arrays may be repeated along dimensions of length 1.\n",
       "\n",
       "Parameters\n",
       "----------\n",
       "*x : array_like\n",
       "    Input arrays.\n",
       "out : ndarray, None, or tuple of ndarray and None, optional\n",
       "    Alternate array object(s) in which to put the result; if provided, it\n",
       "    must have a shape that the inputs broadcast to. A tuple of arrays\n",
       "    (possible only as a keyword argument) must have length equal to the\n",
       "    number of outputs; use None for uninitialized outputs to be\n",
       "    allocated by the ufunc.\n",
       "where : array_like, optional\n",
       "    This condition is broadcast over the input. At locations where the\n",
       "    condition is True, the `out` array will be set to the ufunc result.\n",
       "    Elsewhere, the `out` array will retain its original value.\n",
       "    Note that if an uninitialized `out` array is created via the default\n",
       "    ``out=None``, locations within it where the condition is False will\n",
       "    remain uninitialized.\n",
       "**kwargs\n",
       "    For other keyword-only arguments, see the :ref:`ufunc docs <ufuncs.kwargs>`.\n",
       "\n",
       "Returns\n",
       "-------\n",
       "r : ndarray or tuple of ndarray\n",
       "    `r` will have the shape that the arrays in `x` broadcast to; if `out` is\n",
       "    provided, it will be returned. If not, `r` will be allocated and\n",
       "    may contain uninitialized values. If the function has more than one\n",
       "    output, then the result will be a tuple of arrays.\n"
      ]
     },
     "metadata": {},
     "output_type": "display_data"
    }
   ],
   "source": [
    "?multiply"
   ]
  },
  {
   "cell_type": "markdown",
   "metadata": {},
   "source": [
    "The second one, by typing the command and then, while on top of it, pressing <kbd>Shift</kbd>+<kbd>Tab</kbd>."
   ]
  },
  {
   "cell_type": "code",
   "execution_count": 67,
   "metadata": {},
   "outputs": [
    {
     "data": {
      "text/plain": [
       "<ufunc 'multiply'>"
      ]
     },
     "execution_count": 67,
     "metadata": {},
     "output_type": "execute_result"
    }
   ],
   "source": [
    "multiply"
   ]
  },
  {
   "cell_type": "markdown",
   "metadata": {},
   "source": [
    "## 4.3 Needed packages\n",
    "\n",
    "The following snippet will make sure that you have all the right packages installed."
   ]
  },
  {
   "cell_type": "code",
   "execution_count": 68,
   "metadata": {},
   "outputs": [
    {
     "name": "stdout",
     "output_type": "stream",
     "text": [
      "✗ tensorflow is not installed\n",
      "✓ jupyter correctly installed\n",
      "✓ numpy correctly installed\n",
      "✓ scipy correctly installed\n",
      "✓ scikit-learn correctly installed\n",
      "✓ matplotlib correctly installed\n",
      "✓ pandas correctly installed\n",
      "✓ urllib3 correctly installed\n"
     ]
    }
   ],
   "source": [
    "import subprocess, sys\n",
    "\n",
    "packages = ['tensorflow', \n",
    "            'jupyter', \n",
    "            'numpy', \n",
    "            'scipy', \n",
    "            'scikit-learn', \n",
    "            'matplotlib', \n",
    "            'pandas', \n",
    "            'urllib3']\n",
    "\n",
    "reqs = subprocess.check_output([sys.executable, '-m', 'pip', 'freeze'])\n",
    "packages_iv = [r.decode() for r in reqs.split()]\n",
    "packages_i = [r.split('==')[0] for r in packages_iv]\n",
    "\n",
    "for package in packages:\n",
    "    n = package.split('==')\n",
    "    if len(n) > 1:\n",
    "        [p, v] = n\n",
    "    else:\n",
    "        p, v = n[0], False\n",
    "    if (package in packages_i) or (package in packages_iv):\n",
    "        print('✓ ' + p + ' correctly installed')\n",
    "    elif v and (p in packages_i):\n",
    "        print('? ' + p + ' is installed, version ' + packages_iv[packages_i.index(p)].split('==')[1] + ' (sugested ' + v + ')')\n",
    "    else:\n",
    "        print('✗ ' + package + ' is not installed')"
   ]
  },
  {
   "cell_type": "code",
   "execution_count": null,
   "metadata": {},
   "outputs": [],
   "source": []
  },
  {
   "cell_type": "code",
   "execution_count": null,
   "metadata": {},
   "outputs": [],
   "source": []
  }
 ],
 "metadata": {
  "kernelspec": {
   "display_name": "Python 3 (ipykernel)",
   "language": "python",
   "name": "python3"
  },
  "language_info": {
   "codemirror_mode": {
    "name": "ipython",
    "version": 3
   },
   "file_extension": ".py",
   "mimetype": "text/x-python",
   "name": "python",
   "nbconvert_exporter": "python",
   "pygments_lexer": "ipython3",
   "version": "3.8.3"
  }
 },
 "nbformat": 4,
 "nbformat_minor": 4
}
