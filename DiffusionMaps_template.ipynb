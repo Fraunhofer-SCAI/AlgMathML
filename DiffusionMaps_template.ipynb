{
 "cells": [
  {
   "cell_type": "markdown",
   "metadata": {},
   "source": [
    "# Diffusion maps for single-cell data analysis"
   ]
  },
  {
   "cell_type": "markdown",
   "metadata": {},
   "source": [
    "This notebook serves as a template for the tasks regarding nonlinear dimensionality reduction (chapter 6)."
   ]
  },
  {
   "cell_type": "code",
   "execution_count": null,
   "metadata": {},
   "outputs": [],
   "source": [
    "%matplotlib inline\n",
    "import time\n",
    "import numpy as np\n",
    "from scipy.spatial.distance import pdist\n",
    "from scipy.spatial.distance import squareform\n",
    "from scipy.sparse.linalg import eigs\n",
    "from scipy.io import loadmat \n",
    "from pandas import read_excel\n",
    "from math import ceil\n",
    "from sklearn.decomposition import PCA\n",
    "from sklearn.manifold import TSNE\n",
    "from scipy.io import loadmat\n",
    "import matplotlib.pyplot as plt\n",
    "from mpl_toolkits.mplot3d import Axes3D\n",
    "from sklearn.cluster import KMeans"
   ]
  },
  {
   "cell_type": "markdown",
   "metadata": {},
   "source": [
    "## Introduction"
   ]
  },
  {
   "cell_type": "markdown",
   "metadata": {},
   "source": [
    "#### Task 6.1: Implement the diffusion maps algorithm"
   ]
  },
  {
   "cell_type": "markdown",
   "metadata": {},
   "source": [
    "It is recommended to solve this task by defining a class for diffusion maps and implementing a fit_transform function, which returns the embedding of a given data set. This standardizes the code when comparing diffusion maps with other dimensionality reduction methods from sklearn.\n",
    "\n",
    "You might want to use scipy.spatial.distance.pdist and scipy.spatial.distance.squareform to efficiently create the Gaussian kernel matrix K.\n",
    "scipy.sparse.linalg.eigs can compute the eigenvalues of P for you. Don't forget to sort them accordingly and cut away possible imagninary parts (they are zero in theory, but numerically there might be small imagninary values present.)\n"
   ]
  },
  {
   "cell_type": "code",
   "execution_count": null,
   "metadata": {},
   "outputs": [],
   "source": [
    "# your code goes here\n",
    "\n",
    "\n"
   ]
  },
  {
   "cell_type": "markdown",
   "metadata": {},
   "source": [
    "#### Task 6.2: Perform a diffusion map analysis on the Buettner data set. \n",
    "\n",
    "After creating a suitable Dataset class we load in the data for tasks 6.2 and 6.3."
   ]
  },
  {
   "cell_type": "code",
   "execution_count": null,
   "metadata": {},
   "outputs": [],
   "source": [
    "class Dataset:\n",
    "    \"\"\"\n",
    "    Data class for simplification for later tasks\n",
    "    \n",
    "    Parameters\n",
    "    ----------\n",
    "    data: input data [n_cells, n_genes]\n",
    "    stage_names: names of the cell embryonic stages (time points)\n",
    "    labels:  assignment of each sample to a cell stage\n",
    "    num_groups: number of cell stages\n",
    "    \"\"\"\n",
    "\n",
    "    def __init__(self, data, stage_names, labels):\n",
    "        self.data = data\n",
    "        self.stage_names = stage_names\n",
    "        self.labels = labels\n",
    "        self.num_stages = max(labels)+1"
   ]
  },
  {
   "cell_type": "code",
   "execution_count": null,
   "metadata": {},
   "outputs": [],
   "source": [
    "def load_buettner_data(): \n",
    "    # load data for task 6.2\n",
    "    file = loadmat('data//data1.mat')\n",
    "    data = file.get('in_X')\n",
    "    data = np.array(data)\n",
    "\n",
    "    labels = file.get('true_labs')\n",
    "    labels = labels[:,0] -1\n",
    "\n",
    "    stage_names = ['1', '2', '3']\n",
    "\n",
    "    adata = Dataset(data, stage_names, labels)\n",
    "    return adata"
   ]
  },
  {
   "cell_type": "code",
   "execution_count": null,
   "metadata": {},
   "outputs": [],
   "source": [
    "# Run Diffusion Maps on the data set and visualize the results\n",
    "# your code goes here\n",
    "\n",
    "\n",
    "\n"
   ]
  },
  {
   "cell_type": "markdown",
   "metadata": {},
   "source": [
    "#### Task 6.3: Perform a PCA analysis of the data set."
   ]
  },
  {
   "cell_type": "code",
   "execution_count": null,
   "metadata": {},
   "outputs": [],
   "source": [
    "# your code goes here\n",
    "\n",
    "\n",
    "\n"
   ]
  },
  {
   "cell_type": "markdown",
   "metadata": {},
   "source": [
    "The PCA is much more affected by noise than the diffusion maps analysis and thus gives a worse result. In comparison, the diffusion maps embedding shows a clear structure of the data set. In particular, it reveals relations between the different groups. "
   ]
  },
  {
   "cell_type": "markdown",
   "metadata": {},
   "source": [
    "## Single-cell data analysis\n",
    "\n",
    "In the following, we will apply Diffusion maps to the Guo data. To this end, we first load the data set. To make yourself familiar with the data set it makes sense to look at the _guo.xlsx_ file in the data directory. There, you will find some necessary information:\n",
    "\n",
    "1. the input data, which is a matrix with a certain number of cells as row number and a certain number of genes as column number,\n",
    "2. the names of the measured genes and\n",
    "3. an assignment of each cell to an embryonic stage. These assignments have to be converted into numerical labels to use them for the scatter plots.\n",
    "\n",
    "### Pre-processing\n",
    "#### Task 6.4: Pre-process the Guo data.\n",
    "\n",
    "Take a look at the file guo.xlsx. The naming annotation in the first column refers to the embryonic stage, embryo number, and individual cell number. For example, 64C 2.7 refers to the 7th cell harvested from the 2nd embryo collected from the 64-cell stage. In the first row, you will find the names of the measured genes.\n",
    "In the following code, the data is cleaned and normalized according to the description in Section 6.4.2.\n"
   ]
  },
  {
   "cell_type": "code",
   "execution_count": null,
   "metadata": {},
   "outputs": [],
   "source": [
    "def load_guo_data():\n",
    "    # load guo data\n",
    "    data_frame = read_excel('data//guo.xlsx', sheet_name='Sheet1')\n",
    "\n",
    "    # data\n",
    "    adata = data_frame.to_numpy()\n",
    "    data = adata[:,1:]\n",
    "    embryonic_stages = adata[:,0]\n",
    "\n",
    "    # genes\n",
    "    genes_tmp = data_frame.axes[1][1:]\n",
    "    genes_names = [genes_tmp[k] for k in range(genes_tmp.size)]\n",
    "    \n",
    "    \n",
    "    # your code goes here\n",
    "    # Remove 1-cell stage cells\n",
    "    # Remove cells with values bigger than 28 \n",
    "    # Normalization\n",
    "    # Treat background expression values\n",
    "    # Round\n",
    "    \n",
    "    \n",
    "    \n",
    "    \n",
    "    # stage_names and creating labels\n",
    "    stage_names = ['2C', '4C', '8C', '16C', '32C', '64C']\n",
    "\n",
    "    labels = np.array([next(np.where([name.startswith(sname) for name in stage_names])[0][0] \n",
    "        for sname in stage_names if ename.startswith(sname)) for ename in embryonic_stages])\n",
    "\n",
    "    adata = Dataset(data, stage_names, labels)\n",
    "    return adata"
   ]
  },
  {
   "cell_type": "markdown",
   "metadata": {},
   "source": [
    "#### Task 6.5: Perform a Diffusion map analysis of the pre-processed Guo data."
   ]
  },
  {
   "cell_type": "code",
   "execution_count": null,
   "metadata": {},
   "outputs": [],
   "source": [
    "# your code goes here\n",
    "\n",
    "\n",
    "\n",
    "\n",
    "\n"
   ]
  },
  {
   "cell_type": "markdown",
   "metadata": {},
   "source": [
    "#### Task 6.6: Comparison with the un-pre-processed data.\n",
    "Now we just remove cells with values bigger than 28 and round the original data. Thus, we skip the cleaning and normaliztation part."
   ]
  },
  {
   "cell_type": "code",
   "execution_count": null,
   "metadata": {},
   "outputs": [],
   "source": [
    "# your code goes here\n",
    "# load guo data\n",
    "data_frame = read_excel('data//guo.xlsx', sheet_name='Sheet1')\n",
    "\n",
    "# data\n",
    "adata = data_frame.to_numpy()\n",
    "data = adata[:,1:]\n",
    "embryonic_stages = adata[:,0]\n",
    "\n",
    "# genes\n",
    "genes_tmp = data_frame.axes[1][1:]\n",
    "genes_names = [genes_tmp[k] for k in range(genes_tmp.size)]\n",
    "\n",
    "# your code goes here\n",
    "# Remove cells with values bigger than 28  \n",
    "\n",
    "\n",
    "# Round\n",
    "\n",
    "\n",
    "\n",
    "\n",
    "# stage_names and creating labels\n",
    "stage_names = ['1C', '2C', '4C', '8C', '16C', '32C', '64C']\n",
    "\n",
    "labels = np.array([next(np.where([name.startswith(sname) for name in stage_names])[0][0] \n",
    "    for sname in stage_names if ename.startswith(sname)) for ename in embryonic_stages])\n",
    "\n",
    "adata = Dataset(data, stage_names,labels)\n",
    "\n",
    "\n",
    "# Run diffusion maps and visualize the results\n",
    "# your code goes here\n"
   ]
  },
  {
   "cell_type": "markdown",
   "metadata": {},
   "source": [
    "The non-pre-processed Guo data is less appropriate for analysis. In particular, the 1-cell stage cells deliver a distorted picture. The branching of the PE and EPI lineages cannot be detected here."
   ]
  },
  {
   "cell_type": "markdown",
   "metadata": {},
   "source": [
    "### Comparison with other dimensionality reduction methods\n",
    "\n",
    "#### Task 6.7: Compare Diffusion maps with PCA and tSNE."
   ]
  },
  {
   "cell_type": "code",
   "execution_count": null,
   "metadata": {},
   "outputs": [],
   "source": [
    "# your code goes here\n",
    "\n",
    "\n",
    "\n"
   ]
  },
  {
   "cell_type": "markdown",
   "metadata": {},
   "source": [
    "### Parameter selection\n",
    "\n",
    "#### Task 6.8: Bandwidth comparison\n",
    "We run Diffusion Maps with different bandwidth parameters sigma."
   ]
  },
  {
   "cell_type": "code",
   "execution_count": null,
   "metadata": {},
   "outputs": [],
   "source": [
    "# your code goes here\n",
    "\n",
    "\n",
    "\n",
    "\n"
   ]
  },
  {
   "cell_type": "markdown",
   "metadata": {},
   "source": [
    "#### Task 6.9: Implement the Lafon rule for $\\sigma$ and plot the embedding with the $\\sigma$ chosen by this rule."
   ]
  },
  {
   "cell_type": "code",
   "execution_count": null,
   "metadata": {},
   "outputs": [],
   "source": [
    "# your code goes here\n",
    "\n",
    "\n",
    "\n"
   ]
  },
  {
   "cell_type": "markdown",
   "metadata": {},
   "source": [
    "### Cell group detection\n",
    "\n",
    "Now, we want to apply spectral clustering to detect cell groups in the single-cell data.\n",
    "\n",
    "#### Task 6.10: Implement the spectral clustering algorithm using k-means with k as input."
   ]
  },
  {
   "cell_type": "code",
   "execution_count": null,
   "metadata": {},
   "outputs": [],
   "source": [
    "# your code goes here\n",
    "\n",
    "\n"
   ]
  },
  {
   "cell_type": "markdown",
   "metadata": {},
   "source": [
    "#### Task 6.11: Plot the first 20 eigenvalues of transition matrix $P$ for the Guo data and identify k."
   ]
  },
  {
   "cell_type": "code",
   "execution_count": null,
   "metadata": {},
   "outputs": [],
   "source": [
    "# your code goes here\n",
    "\n",
    "\n",
    "\n"
   ]
  },
  {
   "cell_type": "markdown",
   "metadata": {},
   "source": [
    "#### Task 6.12: Perform the spectral clustering algorithm for the Guo data."
   ]
  },
  {
   "cell_type": "code",
   "execution_count": null,
   "metadata": {},
   "outputs": [],
   "source": [
    "# your code goes here\n",
    "\n",
    "\n",
    "\n"
   ]
  }
 ],
 "metadata": {
  "kernelspec": {
   "display_name": "Python 3 (ipykernel)",
   "language": "python",
   "name": "python3"
  },
  "language_info": {
   "codemirror_mode": {
    "name": "ipython",
    "version": 3
   },
   "file_extension": ".py",
   "mimetype": "text/x-python",
   "name": "python",
   "nbconvert_exporter": "python",
   "pygments_lexer": "ipython3",
   "version": "3.10.11"
  }
 },
 "nbformat": 4,
 "nbformat_minor": 4
}
